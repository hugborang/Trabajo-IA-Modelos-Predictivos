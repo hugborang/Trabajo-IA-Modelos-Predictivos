{
 "cells": [
  {
   "cell_type": "code",
   "execution_count": 1,
   "metadata": {},
   "outputs": [
    {
     "name": "stdout",
     "output_type": "stream",
     "text": [
      "Writing RobustEvaluation.py\n"
     ]
    }
   ],
   "source": [
    "import numpy as np\n",
    "import nbimporter\n",
    "from sklearn.model_selection import cross_val_score\n",
    "\n",
    "class RobustEvaluation:\n",
    "\n",
    "    def robust_evaluation(model, X, y, N_Exp, CV, scoring):\n",
    "        \"\"\"\n",
    "        Evalúa un modelo utilizando validación cruzada repetida y devuelve la métrica de rendimiento promedio.\n",
    "\n",
    "        :param model: sklearn model, Instancia del modelo de entrenamiento a usar.\n",
    "        :param X: pd.DataFrame, Conjunto de datos con variables predictoras.\n",
    "        :param y: pd.Series, Variable respuesta.\n",
    "        :param N_Exp: int, Número de repeticiones del experimento.\n",
    "        :param CV: int, Número de pliegues (folds) para la validación cruzada.\n",
    "        :param scoring: str or callable, Estrategia para evaluar el rendimiento del modelo.\n",
    "        :return: float, Métrica de rendimiento promedio obtenida.\n",
    "        \"\"\"\n",
    "        scores = []\n",
    "\n",
    "        for _ in range(N_Exp):\n",
    "            cv_results = cross_val_score(model, X, y, cv=CV, scoring=scoring)\n",
    "            scores.extend(cv_results)\n",
    "\n",
    "        return np.mean(scores)\n"
   ]
  }
 ],
 "metadata": {
  "kernelspec": {
   "display_name": "base",
   "language": "python",
   "name": "python3"
  },
  "language_info": {
   "codemirror_mode": {
    "name": "ipython",
    "version": 3
   },
   "file_extension": ".py",
   "mimetype": "text/x-python",
   "name": "python",
   "nbconvert_exporter": "python",
   "pygments_lexer": "ipython3",
   "version": "3.9.16"
  }
 },
 "nbformat": 4,
 "nbformat_minor": 2
}
