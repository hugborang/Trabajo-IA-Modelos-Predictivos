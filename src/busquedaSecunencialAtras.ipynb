{
 "cells": [
  {
   "cell_type": "markdown",
   "metadata": {},
   "source": [
    "# Algoritmo d búsqueda secuencial hacia atrás"
   ]
  },
  {
   "cell_type": "code",
   "execution_count": 2,
   "metadata": {},
   "outputs": [],
   "source": [
    "\n",
    "import pandas as pd\n",
    "import numpy as np\n",
    "import RobustEvaluation as re\n",
    "\n",
    "\n",
    "def backward_sequential_search(data, target_name, model, N_Exp=10, CV=5, scoring='neg_mean_squared_error'):\n",
    "    \"\"\"\n",
    "    Realiza búsqueda secuencial hacia atrás para encontrar el mejor subconjunto de variables.\n",
    "\n",
    "    :param data: pd.DataFrame, Conjunto de datos con N variables predictoras y una variable respuesta.\n",
    "    :param target_name: str, Nombre de la variable respuesta.\n",
    "    :param model: sklearn model, Instancia del modelo de entrenamiento a usar.\n",
    "    :param N_Exp: int, Número de repeticiones del experimento por validación cruzada (default 10).\n",
    "    :param CV: int, Número de pliegues (folds) a considerar en la validación cruzada (default 5).\n",
    "    :param scoring: str or callable, Estrategia para evaluar el rendimiento del modelo (default 'neg_mean_squared_error').\n",
    "    :return: pd.DataFrame, Tabla con las combinaciones obtenidas en cada iteración, su tamaño y su rendimiento.\n",
    "    \"\"\"\n",
    "    # Inicialización\n",
    "    variables = list(data.columns)\n",
    "    variables.remove(target_name)\n",
    "    current_solution = variables.copy()\n",
    "    y = data[target_name]\n",
    "    results = []\n",
    "\n",
    "    # Ejecución\n",
    "    for k in range(len(current_solution), 0, -1):\n",
    "        best_score = -np.inf\n",
    "        worst_variable = None\n",
    "\n",
    "        # Evaluar cada variable\n",
    "        for variable in current_solution:\n",
    "            temp_solution = current_solution.copy()\n",
    "            temp_solution.remove(variable)\n",
    "            score = re.robust_evaluation(model, data[temp_solution], y, N_Exp, CV, scoring)\n",
    "\n",
    "            if score > best_score:\n",
    "                best_score = score\n",
    "                worst_variable = variable\n",
    "\n",
    "        # Actualizar la solución actual\n",
    "        current_solution.remove(worst_variable)\n",
    "        results.append({\n",
    "            'variables': current_solution.copy(),\n",
    "            'size': len(current_solution),\n",
    "            'score': best_score\n",
    "        })\n",
    "\n",
    "    # Devolver los resultados en formato de DataFrame\n",
    "    return pd.DataFrame(results)\n",
    "\n"
   ]
  }
 ],
 "metadata": {
  "kernelspec": {
   "display_name": "base",
   "language": "python",
   "name": "python3"
  },
  "language_info": {
   "codemirror_mode": {
    "name": "ipython",
    "version": 3
   },
   "file_extension": ".py",
   "mimetype": "text/x-python",
   "name": "python",
   "nbconvert_exporter": "python",
   "pygments_lexer": "ipython3",
   "version": "3.9.12"
  }
 },
 "nbformat": 4,
 "nbformat_minor": 2
}
